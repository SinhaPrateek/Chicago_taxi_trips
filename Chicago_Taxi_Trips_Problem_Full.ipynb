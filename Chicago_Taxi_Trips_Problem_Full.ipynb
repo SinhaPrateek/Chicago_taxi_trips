{
  "nbformat": 4,
  "nbformat_minor": 0,
  "metadata": {
    "colab": {
      "name": "Chicago Taxi Trips Problem_Full ",
      "provenance": [],
      "collapsed_sections": [],
      "toc_visible": true,
      "include_colab_link": true
    },
    "kernelspec": {
      "display_name": "Python 3",
      "name": "python3"
    }
  },
  "cells": [
    {
      "cell_type": "markdown",
      "metadata": {
        "id": "view-in-github",
        "colab_type": "text"
      },
      "source": [
        "<a href=\"https://colab.research.google.com/github/SinhaPrateek/Chicago_taxi_trips/blob/main/Chicago_Taxi_Trips_Problem_Full.ipynb\" target=\"_parent\"><img src=\"https://colab.research.google.com/assets/colab-badge.svg\" alt=\"Open In Colab\"/></a>"
      ]
    },
    {
      "cell_type": "markdown",
      "metadata": {
        "id": "lSrWNr3MuFUS"
      },
      "source": [
        "For more information about working with Colaboratory notebooks, see [Overview of Colaboratory](/notebooks/basic_features_overview.ipynb).\n"
      ]
    },
    {
      "cell_type": "code",
      "metadata": {
        "id": "m25jNVecMuSY",
        "cellView": "code",
        "colab": {
          "base_uri": "https://localhost:8080/",
          "height": 34
        },
        "outputId": "a2121d4f-b723-41ad-b2cb-0e66c082e43f"
      },
      "source": [
        "from google.colab import auth\n",
        "auth.authenticate_user()\n",
        "print('Authenticated')"
      ],
      "execution_count": null,
      "outputs": [
        {
          "output_type": "stream",
          "text": [
            "Authenticated\n"
          ],
          "name": "stdout"
        }
      ]
    },
    {
      "cell_type": "markdown",
      "metadata": {
        "id": "xcWHc_DBOvcv"
      },
      "source": [
        "##Importing Libraries"
      ]
    },
    {
      "cell_type": "code",
      "metadata": {
        "id": "axPmITiGF4wA",
        "colab": {
          "base_uri": "https://localhost:8080/",
          "height": 70
        },
        "outputId": "4752160b-0168-4ea8-ab9a-4c6c17809a74"
      },
      "source": [
        "import time \n",
        "%matplotlib inline\n",
        "import numpy as np \n",
        "import pandas as pd \n",
        "from datetime import timedelta\n",
        "import datetime as dt\n",
        "import matplotlib.pyplot as plt\n",
        "plt.rcParams['figure.figsize'] = [16, 10]\n",
        "import seaborn as sns\n",
        "import xgboost as xgb\n",
        "from sklearn.model_selection import train_test_split\n",
        "from sklearn.decomposition import PCA\n",
        "from sklearn.cluster import MiniBatchKMeans\n",
        "from scipy import stats\n",
        "import warnings\n",
        "warnings.filterwarnings('ignore')"
      ],
      "execution_count": null,
      "outputs": [
        {
          "output_type": "stream",
          "text": [
            "/usr/local/lib/python3.6/dist-packages/statsmodels/tools/_testing.py:19: FutureWarning: pandas.util.testing is deprecated. Use the functions in the public API at pandas.testing instead.\n",
            "  import pandas.util.testing as tm\n"
          ],
          "name": "stderr"
        }
      ]
    },
    {
      "cell_type": "markdown",
      "metadata": {
        "id": "vy5vUaOwOnRo"
      },
      "source": [
        "##Loading Data from BigQuery Public Dataset"
      ]
    },
    {
      "cell_type": "code",
      "metadata": {
        "id": "2poPzw40N6mV",
        "colab": {
          "base_uri": "https://localhost:8080/",
          "height": 70
        },
        "outputId": "03f382d2-0da8-4409-ab40-27abba2f0f68"
      },
      "source": [
        "\n",
        "start = time.time()\n",
        "project_id = ''\n",
        "\n",
        "from google.cloud import bigquery\n",
        "\n",
        "client = bigquery.Client(project=project_id)\n",
        "\n",
        "train = client.query('''\n",
        "  SELECT\n",
        "  *\n",
        "FROM\n",
        "  `bigquery-public-data.chicago_taxi_trips.taxi_trips`\n",
        "WHERE trip_start_timestamp < TIMESTAMP('2017-01-01 00:00:00')\n",
        "AND trip_end_timestamp < TIMESTAMP('2017-01-01 00:00:00')\n",
        "AND trip_seconds>0\n",
        "LIMIT 100000\n",
        "''').to_dataframe()\n",
        "\n",
        "end = time.time()\n",
        "print(\"time taken(s) to run query is : %d\" %(end-start))"
      ],
      "execution_count": null,
      "outputs": [
        {
          "output_type": "stream",
          "text": [
            "WARNING:google.auth._default:No project ID could be determined. Consider running `gcloud config set project` or setting the GOOGLE_CLOUD_PROJECT environment variable\n"
          ],
          "name": "stderr"
        },
        {
          "output_type": "stream",
          "text": [
            "time taken(s) to run query is : 28\n"
          ],
          "name": "stdout"
        }
      ]
    },
    {
      "cell_type": "code",
      "metadata": {
        "id": "uEancz_eWBKl",
        "colab": {
          "base_uri": "https://localhost:8080/",
          "height": 34
        },
        "outputId": "9ea25f05-40f4-4ee1-f52e-f591d0c5d319"
      },
      "source": [
        "train.shape"
      ],
      "execution_count": null,
      "outputs": [
        {
          "output_type": "execute_result",
          "data": {
            "text/plain": [
              "(100000, 23)"
            ]
          },
          "metadata": {
            "tags": []
          },
          "execution_count": 8
        }
      ]
    },
    {
      "cell_type": "code",
      "metadata": {
        "id": "0qoWlo7fFx7W",
        "colab": {
          "base_uri": "https://localhost:8080/",
          "height": 70
        },
        "outputId": "a52696fa-6f0b-41fd-ef7f-c8105a43f176"
      },
      "source": [
        "start = time.time()\n",
        "from google.cloud import bigquery\n",
        "\n",
        "client = bigquery.Client(project=project_id)\n",
        "\n",
        "test = client.query('''\n",
        "  SELECT\n",
        "  *\n",
        "FROM\n",
        "  `bigquery-public-data.chicago_taxi_trips.taxi_trips`\n",
        "WHERE trip_start_timestamp >= TIMESTAMP('2017-01-01 00:00:00')\n",
        "AND trip_end_timestamp >= TIMESTAMP('2017-01-01 00:00:00')\n",
        "AND trip_seconds>0\n",
        "LIMIT 20000\n",
        "''').to_dataframe()\n",
        "\n",
        "end = time.time()\n",
        "print(\"time taken(s) to run query is : %d\" %(end-start))"
      ],
      "execution_count": null,
      "outputs": [
        {
          "output_type": "stream",
          "text": [
            "WARNING:google.auth._default:No project ID could be determined. Consider running `gcloud config set project` or setting the GOOGLE_CLOUD_PROJECT environment variable\n"
          ],
          "name": "stderr"
        },
        {
          "output_type": "stream",
          "text": [
            "time taken(s) to run query is : 6\n"
          ],
          "name": "stdout"
        }
      ]
    },
    {
      "cell_type": "markdown",
      "metadata": {
        "id": "bRrjc0vAOihO"
      },
      "source": [
        "##Data understanding"
      ]
    },
    {
      "cell_type": "code",
      "metadata": {
        "id": "xMofDBY4Ms5Z",
        "colab": {
          "base_uri": "https://localhost:8080/",
          "height": 35
        },
        "outputId": "73cedc24-7edf-4a8d-df14-5017363d6a05"
      },
      "source": [
        "print('We do not need to worry about missing values.') if train.count().min() == train.shape[0] and test.count().min() == test.shape[0] else print('We need to worry about missing values.')"
      ],
      "execution_count": null,
      "outputs": [
        {
          "output_type": "stream",
          "text": [
            "We need to worry about missing values.\n"
          ],
          "name": "stdout"
        }
      ]
    },
    {
      "cell_type": "code",
      "metadata": {
        "id": "hb0l30_3vwg2",
        "colab": {
          "base_uri": "https://localhost:8080/",
          "height": 50
        },
        "outputId": "2b267366-9158-4dea-9c9f-afaf112563e4"
      },
      "source": [
        "print('unique_key is unique.') if train.unique_key.nunique() == train.shape[0] else print('oops')\n",
        "print('Train and test sets are distinct.') if len(np.intersect1d(train.unique_key.values, test.unique_key.values))== 0 else print('oops')"
      ],
      "execution_count": null,
      "outputs": [
        {
          "output_type": "stream",
          "text": [
            "unique_key is unique.\n",
            "Train and test sets are distinct.\n"
          ],
          "name": "stdout"
        }
      ]
    },
    {
      "cell_type": "markdown",
      "metadata": {
        "id": "zZncaEHuG98G"
      },
      "source": [
        "Dropping rows with null values for specified columns"
      ]
    },
    {
      "cell_type": "code",
      "metadata": {
        "id": "ua1uXyZAAtAK"
      },
      "source": [
        "train.dropna(subset=['trip_seconds','trip_miles','pickup_latitude','pickup_longitude','pickup_location','dropoff_latitude','dropoff_longitude','dropoff_location'],inplace = True)\n",
        "test.dropna(subset=['trip_seconds','trip_miles','pickup_latitude','pickup_longitude','pickup_location','dropoff_latitude','dropoff_longitude','dropoff_location'],inplace = True)\n"
      ],
      "execution_count": null,
      "outputs": []
    },
    {
      "cell_type": "code",
      "metadata": {
        "id": "UmDCFT7jH-PT",
        "colab": {
          "base_uri": "https://localhost:8080/",
          "height": 34
        },
        "outputId": "43830845-7aa5-48cc-90d7-9733e2ec8109"
      },
      "source": [
        "train.unique_key.nunique()"
      ],
      "execution_count": null,
      "outputs": [
        {
          "output_type": "execute_result",
          "data": {
            "text/plain": [
              "97426"
            ]
          },
          "metadata": {
            "tags": []
          },
          "execution_count": 13
        }
      ]
    },
    {
      "cell_type": "code",
      "metadata": {
        "id": "IzhLzpsFI1Es",
        "colab": {
          "base_uri": "https://localhost:8080/",
          "height": 34
        },
        "outputId": "4541fbaa-5e10-4903-d68b-7731aa1166d0"
      },
      "source": [
        "train.shape"
      ],
      "execution_count": null,
      "outputs": [
        {
          "output_type": "execute_result",
          "data": {
            "text/plain": [
              "(97426, 23)"
            ]
          },
          "metadata": {
            "tags": []
          },
          "execution_count": 14
        }
      ]
    },
    {
      "cell_type": "code",
      "metadata": {
        "id": "woyZBIn6_uwE",
        "colab": {
          "base_uri": "https://localhost:8080/",
          "height": 35
        },
        "outputId": "9b57fb66-ecfd-476b-d50e-332a79a9f1de"
      },
      "source": [
        "train['trip_start_timestamp'] = pd.to_datetime(train.trip_start_timestamp)\n",
        "test['trip_start_timestamp'] = pd.to_datetime(test.trip_start_timestamp)\n",
        "train.loc[:, 'pickup_date'] = train['trip_start_timestamp'].dt.date\n",
        "test.loc[:, 'pickup_date'] = test['trip_start_timestamp'].dt.date\n",
        "train['trip_end_timestamp'] = pd.to_datetime(train.trip_end_timestamp)\n",
        "train['check_trip_seconds'] = (train['trip_end_timestamp'] - train['trip_start_timestamp']).map(lambda x: x.total_seconds())\n",
        "duration_difference = train[np.abs(train['check_trip_seconds'].values  - train['trip_seconds'].values) > 1]\n",
        "print('Trip_duration and datetimes are ok.') if len(duration_difference[['trip_start_timestamp', 'trip_end_timestamp', 'trip_seconds', 'check_trip_seconds']]) == 0 else print('Ooops.')"
      ],
      "execution_count": null,
      "outputs": [
        {
          "output_type": "stream",
          "text": [
            "Ooops.\n"
          ],
          "name": "stdout"
        }
      ]
    },
    {
      "cell_type": "markdown",
      "metadata": {
        "id": "yDmnzwRjz6Aq"
      },
      "source": [
        "Difference between pickup and drop time is not equal to trip_seconds. This  can be because of rounding to 15 min, so we will only use 'trip_seconds' column"
      ]
    },
    {
      "cell_type": "code",
      "metadata": {
        "id": "OEmoxs5qIdqS",
        "colab": {
          "base_uri": "https://localhost:8080/",
          "height": 631
        },
        "outputId": "3a2ffc66-741f-454b-cd4b-fd41353f0396"
      },
      "source": [
        "train['log_trip_seconds'] = np.log(train['trip_seconds'].values + 1)\n",
        "plt.hist(train['log_trip_seconds'].values, bins=100)\n",
        "plt.xlabel(\"log(trip_seconds)\")\n",
        "plt.ylabel(\"count of train records\")\n",
        "plt.show()"
      ],
      "execution_count": null,
      "outputs": [
        {
          "output_type": "display_data",
          "data": {
            "image/png": "[encoded data removed]",
            "text/plain": [
              "<Figure size 1152x720 with 1 Axes>"
            ]
          },
          "metadata": {
            "tags": []
          }
        }
      ]
    },
    {
      "cell_type": "code",
      "metadata": {
        "id": "IRbehrUVNABb",
        "colab": {
          "base_uri": "https://localhost:8080/",
          "height": 35
        },
        "outputId": "3499720d-71fe-46df-c45b-8d0613f354d4"
      },
      "source": [
        "print(\"Most of the records are around {} min and {} min\".format(np.exp(4)/60,np.exp(8)/60))"
      ],
      "execution_count": null,
      "outputs": [
        {
          "output_type": "stream",
          "text": [
            "Most of the records are around 0.9099691672190706 min and 49.68263311736214 min\n"
          ],
          "name": "stdout"
        }
      ]
    },
    {
      "cell_type": "markdown",
      "metadata": {
        "id": "Xzk69_AOO44r"
      },
      "source": [
        "##Feature Extraction"
      ]
    },
    {
      "cell_type": "markdown",
      "metadata": {
        "id": "XKIV_MtQXXPk"
      },
      "source": [
        "###Datetime features"
      ]
    },
    {
      "cell_type": "code",
      "metadata": {
        "id": "BMivu_ZbIlJq"
      },
      "source": [
        "train.loc[:, 'pickup_weekday'] = train['trip_start_timestamp'].dt.weekday  # Monday is 0 and Sunday is 6\n",
        "train.loc[:, 'pickup_hour_weekofyear'] = train['trip_start_timestamp'].dt.weekofyear\n",
        "train.loc[:, 'pickup_hour'] = train['trip_start_timestamp'].dt.hour\n",
        "train.loc[:, 'pickup_minute'] = train['trip_start_timestamp'].dt.minute\n",
        "train.loc[:, 'pickup_week_hour'] = train['pickup_weekday'] * 24 + train['pickup_hour']\n",
        "\n",
        "test.loc[:, 'pickup_weekday'] = test['trip_start_timestamp'].dt.weekday\n",
        "test.loc[:, 'pickup_hour_weekofyear'] = test['trip_start_timestamp'].dt.weekofyear\n",
        "test.loc[:, 'pickup_hour'] = test['trip_start_timestamp'].dt.hour\n",
        "test.loc[:, 'pickup_minute'] = test['trip_start_timestamp'].dt.minute\n",
        "test.loc[:, 'pickup_week_hour'] = test['pickup_weekday'] * 24 + test['pickup_hour']"
      ],
      "execution_count": null,
      "outputs": []
    },
    {
      "cell_type": "code",
      "metadata": {
        "id": "qXHGlOHGdbfb",
        "cellView": "code",
        "colab": {
          "base_uri": "https://localhost:8080/",
          "height": 697
        },
        "outputId": "cba7587f-3c0d-444e-8b2e-c69299380cae"
      },
      "source": [
        "\n",
        "fig, ax = plt.subplots(ncols=2, sharey=True)\n",
        "ax[0].plot(train.groupby('pickup_hour').count()['unique_key'], 'bo-', lw=2, alpha=0.7)\n",
        "ax[1].plot(train.groupby('pickup_weekday').count()['unique_key'], 'go-', lw=2, alpha=0.7)\n",
        "ax[0].set_xlabel('hour')\n",
        "ax[1].set_xlabel('weekday')\n",
        "ax[0].set_ylabel('ride counts')\n",
        "fig.suptitle('Ride counts for each hour and weekday')\n",
        "plt.show()"
      ],
      "execution_count": null,
      "outputs": [
        {
          "output_type": "display_data",
          "data": {
            "image/png": "[encoded data removed]",
            "text/plain": [
              "<Figure size 1152x720 with 2 Axes>"
            ]
          },
          "metadata": {
            "tags": []
          }
        }
      ]
    },
    {
      "cell_type": "markdown",
      "metadata": {
        "id": "0tDLRXuGcMrq"
      },
      "source": [
        "From above plot, we can see ride counts are min at 5 AM and max at 6 PM(18:00). This is quite as expected."
      ]
    },
    {
      "cell_type": "markdown",
      "metadata": {
        "id": "AXSFMCD0ZROl"
      },
      "source": [
        "Average Speed"
      ]
    },
    {
      "cell_type": "code",
      "metadata": {
        "id": "BEk_aQmoY-r2",
        "cellView": "code",
        "colab": {
          "base_uri": "https://localhost:8080/",
          "height": 697
        },
        "outputId": "ce8e94d4-2774-4500-8212-7a97f63f4783"
      },
      "source": [
        "\n",
        "train.loc[:, 'avg_speed_h'] = train['trip_miles'] / train['trip_seconds']/(60*60)\n",
        "\n",
        "fig, ax = plt.subplots(ncols=2, sharey=True)\n",
        "ax[0].plot(train.groupby('pickup_hour').mean()['avg_speed_h'], 'bo-', lw=2, alpha=0.7)\n",
        "ax[1].plot(train.groupby('pickup_weekday').mean()['avg_speed_h'], 'go-', lw=2, alpha=0.7)\n",
        "# ax[2].plot(train.groupby('pickup_week_hour').mean()['avg_speed_h'], 'ro-', lw=2, alpha=0.7)\n",
        "ax[0].set_xlabel('hour')\n",
        "ax[1].set_xlabel('weekday')\n",
        "# ax[2].set_xlabel('weekhour')\n",
        "ax[0].set_ylabel('average speed(miles per hour)')\n",
        "fig.suptitle('Rush hour average traffic speed')\n",
        "plt.show()"
      ],
      "execution_count": null,
      "outputs": [
        {
          "output_type": "display_data",
          "data": {
            "image/png": "[encoded data removed]",
            "text/plain": [
              "<Figure size 1152x720 with 2 Axes>"
            ]
          },
          "metadata": {
            "tags": []
          }
        }
      ]
    },
    {
      "cell_type": "markdown",
      "metadata": {
        "id": "idRqUgaEc_UR"
      },
      "source": [
        "As expected, average speed is max during hrs with least rides and vice versa"
      ]
    },
    {
      "cell_type": "code",
      "metadata": {
        "id": "3eoM3F5EMIUi",
        "cellView": "code",
        "colab": {
          "base_uri": "https://localhost:8080/",
          "height": 697
        },
        "outputId": "6e141d64-1512-41b5-9507-ed71574b1c3e"
      },
      "source": [
        "\n",
        "fig, ax = plt.subplots(ncols=2, sharey=True)\n",
        "ax[0].plot(train.groupby('pickup_hour').mean()['trip_seconds'], 'bo-', lw=2, alpha=0.7)\n",
        "ax[1].plot(train.groupby('pickup_weekday').mean()['trip_seconds'], 'go-', lw=2, alpha=0.7)\n",
        "# ax[2].plot(train.groupby('pickup_week_hour').mean()['avg_speed_h'], 'ro-', lw=2, alpha=0.7)\n",
        "ax[0].set_xlabel('hour')\n",
        "ax[1].set_xlabel('weekday')\n",
        "# ax[2].set_xlabel('weekhour')\n",
        "ax[0].set_ylabel('average trip duration')\n",
        "fig.suptitle('Average trip duration')\n",
        "plt.show()"
      ],
      "execution_count": null,
      "outputs": [
        {
          "output_type": "display_data",
          "data": {
            "image/png": "[encoded data removed]",
            "text/plain": [
              "<Figure size 1152x720 with 2 Axes>"
            ]
          },
          "metadata": {
            "tags": []
          }
        }
      ]
    },
    {
      "cell_type": "markdown",
      "metadata": {
        "id": "lyLSVCbLeKqo"
      },
      "source": [
        "Obviously trip durations should follow the opposite trend to average speed, the above plot confirms that hypothesis"
      ]
    },
    {
      "cell_type": "code",
      "metadata": {
        "id": "64WUiKg7NhAz",
        "cellView": "code",
        "colab": {
          "base_uri": "https://localhost:8080/",
          "height": 671
        },
        "outputId": "9729c398-e3fd-47ad-ad21-97dfd046a2ec"
      },
      "source": [
        "\n",
        "summary_hour_duration = pd.DataFrame(train.groupby(['pickup_weekday','pickup_hour'])['trip_seconds'].mean())\n",
        "summary_hour_duration.reset_index(inplace = True)\n",
        "summary_hour_duration['unit']=1\n",
        "sns.set(style=\"white\", palette=\"muted\", color_codes=False)\n",
        "sns.set_context(\"poster\")\n",
        "sns.tsplot(data=summary_hour_duration, time=\"pickup_hour\", unit = \"unit\", condition=\"pickup_weekday\", value=\"trip_seconds\")\n",
        "sns.despine(bottom = False)"
      ],
      "execution_count": null,
      "outputs": [
        {
          "output_type": "display_data",
          "data": {
            "image/png": "[encoded data removed]",
            "text/plain": [
              "<Figure size 1152x720 with 1 Axes>"
            ]
          },
          "metadata": {
            "tags": []
          }
        }
      ]
    },
    {
      "cell_type": "markdown",
      "metadata": {
        "id": "fbbfyx4omgnh"
      },
      "source": [
        "It shows that trip durations at any hour follow the trend everyday with max. duration between 15 to 20 hours.\n",
        "\n",
        "**Conclusion** \n",
        "\n",
        "Based on above plots, we should consider featues like hour, weekday, weekhour for training as trip duration depends on them"
      ]
    },
    {
      "cell_type": "markdown",
      "metadata": {
        "id": "eMlwXrXUJZHZ"
      },
      "source": [
        "###Using PCA "
      ]
    },
    {
      "cell_type": "code",
      "metadata": {
        "id": "1TOkW1rtJYXU"
      },
      "source": [
        "coords = np.vstack((train[['pickup_latitude', 'pickup_longitude']].values,\n",
        "                    train[['dropoff_latitude', 'dropoff_longitude']].values,\n",
        "                    test[['pickup_latitude', 'pickup_longitude']].values,\n",
        "                    test[['dropoff_latitude', 'dropoff_longitude']].values))\n",
        "\n",
        "pca = PCA().fit(coords)\n",
        "train['pickup_pca0'] = pca.transform(train[['pickup_latitude', 'pickup_longitude']])[:, 0]\n",
        "train['pickup_pca1'] = pca.transform(train[['pickup_latitude', 'pickup_longitude']])[:, 1]\n",
        "train['dropoff_pca0'] = pca.transform(train[['dropoff_latitude', 'dropoff_longitude']])[:, 0]\n",
        "train['dropoff_pca1'] = pca.transform(train[['dropoff_latitude', 'dropoff_longitude']])[:, 1]\n",
        "test['pickup_pca0'] = pca.transform(test[['pickup_latitude', 'pickup_longitude']])[:, 0]\n",
        "test['pickup_pca1'] = pca.transform(test[['pickup_latitude', 'pickup_longitude']])[:, 1]\n",
        "test['dropoff_pca0'] = pca.transform(test[['dropoff_latitude', 'dropoff_longitude']])[:, 0]\n",
        "test['dropoff_pca1'] = pca.transform(test[['dropoff_latitude', 'dropoff_longitude']])[:, 1]"
      ],
      "execution_count": null,
      "outputs": []
    },
    {
      "cell_type": "markdown",
      "metadata": {
        "id": "-nTbIA-4pV6n"
      },
      "source": [
        "###Centre points of pickup and drop \n",
        "This helps model to learn the area of city where trip happended"
      ]
    },
    {
      "cell_type": "code",
      "metadata": {
        "id": "fwVivVgwEHJm"
      },
      "source": [
        "train.loc[:, 'center_latitude'] = (train['pickup_latitude'].values + train['dropoff_latitude'].values) / 2\n",
        "train.loc[:, 'center_longitude'] = (train['pickup_longitude'].values + train['dropoff_longitude'].values) / 2\n",
        "test.loc[:, 'center_latitude'] = (test['pickup_latitude'].values + test['dropoff_latitude'].values) / 2\n",
        "test.loc[:, 'center_longitude'] = (test['pickup_longitude'].values + test['dropoff_longitude'].values) / 2"
      ],
      "execution_count": null,
      "outputs": []
    },
    {
      "cell_type": "markdown",
      "metadata": {
        "id": "z6sNBQYZTXww"
      },
      "source": [
        "###Using Clustering on latitude and longitude"
      ]
    },
    {
      "cell_type": "code",
      "metadata": {
        "id": "mRQExDLUSb-I"
      },
      "source": [
        "sample_ind = np.random.permutation(len(coords))[:500000]\n",
        "kmeans = MiniBatchKMeans(n_clusters=100, batch_size=10000).fit(coords[sample_ind])"
      ],
      "execution_count": null,
      "outputs": []
    },
    {
      "cell_type": "code",
      "metadata": {
        "id": "PjNAG40wSd9X"
      },
      "source": [
        "train.loc[:, 'pickup_cluster'] = kmeans.predict(train[['pickup_latitude', 'pickup_longitude']])\n",
        "train.loc[:, 'dropoff_cluster'] = kmeans.predict(train[['dropoff_latitude', 'dropoff_longitude']])\n",
        "test.loc[:, 'pickup_cluster'] = kmeans.predict(test[['pickup_latitude', 'pickup_longitude']])\n",
        "test.loc[:, 'dropoff_cluster'] = kmeans.predict(test[['dropoff_latitude', 'dropoff_longitude']])"
      ],
      "execution_count": null,
      "outputs": []
    },
    {
      "cell_type": "code",
      "metadata": {
        "id": "BoW-dq9E3Jzf",
        "colab": {
          "base_uri": "https://localhost:8080/",
          "height": 797
        },
        "outputId": "75864756-75b7-47fc-ecf6-e43f0bb0edaa"
      },
      "source": [
        "train.info()"
      ],
      "execution_count": null,
      "outputs": [
        {
          "output_type": "stream",
          "text": [
            "<class 'pandas.core.frame.DataFrame'>\n",
            "Int64Index: 85622 entries, 4598 to 99999\n",
            "Data columns (total 40 columns):\n",
            "unique_key                85622 non-null object\n",
            "taxi_id                   85622 non-null object\n",
            "trip_start_timestamp      85622 non-null datetime64[ns, UTC]\n",
            "trip_end_timestamp        85622 non-null datetime64[ns, UTC]\n",
            "trip_seconds              85622 non-null int64\n",
            "trip_miles                85622 non-null float64\n",
            "pickup_census_tract       43182 non-null object\n",
            "dropoff_census_tract      43182 non-null object\n",
            "pickup_community_area     85622 non-null float64\n",
            "dropoff_community_area    85622 non-null float64\n",
            "fare                      85622 non-null float64\n",
            "tips                      85622 non-null float64\n",
            "tolls                     85622 non-null float64\n",
            "extras                    85622 non-null float64\n",
            "trip_total                85622 non-null float64\n",
            "payment_type              85622 non-null object\n",
            "company                   57097 non-null object\n",
            "pickup_latitude           85622 non-null float64\n",
            "pickup_longitude          85622 non-null float64\n",
            "pickup_location           85622 non-null object\n",
            "dropoff_latitude          85622 non-null float64\n",
            "dropoff_longitude         85622 non-null float64\n",
            "dropoff_location          85622 non-null object\n",
            "pickup_date               85622 non-null object\n",
            "check_trip_seconds        85622 non-null float64\n",
            "log_trip_seconds          85622 non-null float64\n",
            "pickup_weekday            85622 non-null int64\n",
            "pickup_hour_weekofyear    85622 non-null int64\n",
            "pickup_hour               85622 non-null int64\n",
            "pickup_minute             85622 non-null int64\n",
            "pickup_week_hour          85622 non-null int64\n",
            "avg_speed_h               85622 non-null float64\n",
            "pickup_pca0               85622 non-null float64\n",
            "pickup_pca1               85622 non-null float64\n",
            "dropoff_pca0              85622 non-null float64\n",
            "dropoff_pca1              85622 non-null float64\n",
            "center_latitude           85622 non-null float64\n",
            "center_longitude          85622 non-null float64\n",
            "pickup_cluster            85622 non-null int32\n",
            "dropoff_cluster           85622 non-null int32\n",
            "dtypes: datetime64[ns, UTC](2), float64(21), int32(2), int64(6), object(9)\n",
            "memory usage: 26.1+ MB\n"
          ],
          "name": "stdout"
        }
      ]
    },
    {
      "cell_type": "markdown",
      "metadata": {
        "id": "ZEv75gOwrP12"
      },
      "source": [
        "##Modelling"
      ]
    },
    {
      "cell_type": "markdown",
      "metadata": {
        "id": "RHqAdrKKgpe2"
      },
      "source": [
        "###Approach 1"
      ]
    },
    {
      "cell_type": "markdown",
      "metadata": {
        "id": "uf7VrD8dV3mr"
      },
      "source": [
        "Creating list of features to be used for training"
      ]
    },
    {
      "cell_type": "code",
      "metadata": {
        "id": "aT3jHXuuPC3I",
        "colab": {
          "base_uri": "https://localhost:8080/",
          "height": 89
        },
        "outputId": "92b85c6e-5f06-4f9e-8db2-2dd26dac8273"
      },
      "source": [
        "feature_names = list(train.columns)\n",
        "print(\"Columns missing in test data are: {}\".format(np.setdiff1d(train.columns, test.columns)))\n",
        "do_not_use_for_training = ['unique_key','taxi_id', 'log_trip_seconds', 'trip_start_timestamp', 'trip_end_timestamp',\n",
        "                           'trip_seconds', 'check_trip_seconds', 'pickup_census_tract',\n",
        "                           'dropoff_census_tract', 'pickup_community_area',\n",
        "                           'dropoff_community_area', 'tips', 'extras',\n",
        "                           'payment_type', 'company','fare','tolls',\n",
        "                           'pickup_location', 'dropoff_location', 'pickup_date',\n",
        "                           'check_trip_seconds', 'log_trip_seconds',\n",
        "                           'avg_speed_h','pickup_pca0', 'pickup_pca1', 'dropoff_pca0', 'dropoff_pca1','pickup_cluster', 'dropoff_cluster']\n",
        "\n",
        "feature_names = [f for f in train.columns if f not in do_not_use_for_training]\n",
        "print(\"columns used for modelling are: {}\".format(feature_names))\n",
        "print('We have %i features.' % len(feature_names))\n",
        "\n",
        "train[feature_names].count()\n",
        "y = np.log(train['trip_seconds'].values + 1)"
      ],
      "execution_count": null,
      "outputs": [
        {
          "output_type": "stream",
          "text": [
            "Columns missing in test data are: ['avg_speed_h' 'check_trip_seconds' 'log_trip_seconds']\n",
            "columns used for modelling are: ['trip_miles', 'trip_total', 'pickup_latitude', 'pickup_longitude', 'dropoff_latitude', 'dropoff_longitude', 'pickup_weekday', 'pickup_hour_weekofyear', 'pickup_hour', 'pickup_minute', 'pickup_week_hour', 'center_latitude', 'center_longitude']\n",
            "We have 13 features.\n"
          ],
          "name": "stdout"
        }
      ]
    },
    {
      "cell_type": "markdown",
      "metadata": {
        "id": "m3kIwHLZh4PJ"
      },
      "source": [
        "Using cross validation to check the performance of various models"
      ]
    },
    {
      "cell_type": "code",
      "metadata": {
        "id": "iHg6_FHbv2SQ",
        "colab": {
          "base_uri": "https://localhost:8080/",
          "height": 87
        },
        "outputId": "fb17dbd7-1f63-43f3-882a-06bcff9ca1cb"
      },
      "source": [
        "import sklearn.metrics\n",
        "from sklearn.neighbors import KNeighborsRegressor\n",
        "from sklearn.tree import DecisionTreeRegressor\n",
        "from sklearn.linear_model import Lasso\n",
        "from sklearn.linear_model import Ridge\n",
        "from sklearn.linear_model import LinearRegression\n",
        "\n",
        "from sklearn.model_selection import KFold\n",
        "from sklearn.model_selection import cross_val_score\n",
        " \n",
        "x = train[feature_names].values\n",
        "\n",
        "k = 10\n",
        "seed = 7\n",
        "scoring = 'neg_mean_absolute_error'\n",
        "\n",
        "cv = KFold(n_splits = k, random_state = seed)\n",
        "models = []\n",
        "results =[]\n",
        "modelNames = []\n",
        "\n",
        "models.append(('LR', LinearRegression()))\n",
        "models.append(('DT', DecisionTreeRegressor()))\n",
        "models.append(('LA', Lasso()))\n",
        "models.append(('R',Ridge()))\n",
        "\n",
        "\n",
        "for name,model in models:\n",
        "    kfold = KFold(n_splits = k, random_state = seed)\n",
        "    cv_results = cross_val_score(model,x, y, cv=kfold, scoring = scoring)\n",
        "    results.append(cv_results)\n",
        "    modelNames.append(name)\n",
        "    msg = \"%s : %s, %s\" %(name,cv_results.mean(),cv_results.std())\n",
        "    print(msg)"
      ],
      "execution_count": null,
      "outputs": [
        {
          "output_type": "stream",
          "text": [
            "LR : -0.4810390631564812, 0.08718357312589818\n",
            "DT : -0.31551064765530445, 0.021916339178881306\n",
            "LA : -0.5240290791836049, 0.0957525699553817\n",
            "R : -0.4808212797307891, 0.08672763302405861\n"
          ],
          "name": "stdout"
        }
      ]
    },
    {
      "cell_type": "code",
      "metadata": {
        "id": "VfvChHlr-170",
        "colab": {
          "base_uri": "https://localhost:8080/",
          "height": 329
        },
        "outputId": "396ffb1f-6b59-4652-dee9-c2921563694a"
      },
      "source": [
        "train[feature_names].info()"
      ],
      "execution_count": null,
      "outputs": [
        {
          "output_type": "stream",
          "text": [
            "<class 'pandas.core.frame.DataFrame'>\n",
            "Int64Index: 91138 entries, 3492 to 99999\n",
            "Data columns (total 13 columns):\n",
            "trip_miles                91138 non-null float64\n",
            "trip_total                91138 non-null float64\n",
            "pickup_latitude           91138 non-null float64\n",
            "pickup_longitude          91138 non-null float64\n",
            "dropoff_latitude          91138 non-null float64\n",
            "dropoff_longitude         91138 non-null float64\n",
            "pickup_weekday            91138 non-null int64\n",
            "pickup_hour_weekofyear    91138 non-null int64\n",
            "pickup_hour               91138 non-null int64\n",
            "pickup_minute             91138 non-null int64\n",
            "pickup_week_hour          91138 non-null int64\n",
            "center_latitude           91138 non-null float64\n",
            "center_longitude          91138 non-null float64\n",
            "dtypes: float64(8), int64(5)\n",
            "memory usage: 9.7 MB\n"
          ],
          "name": "stdout"
        }
      ]
    },
    {
      "cell_type": "markdown",
      "metadata": {
        "id": "fK4pBAaWiFOh"
      },
      "source": [
        "XGBoost "
      ]
    },
    {
      "cell_type": "code",
      "metadata": {
        "id": "jrcIO8f4N3HE"
      },
      "source": [
        "Xtr, Xv, ytr, yv = train_test_split(train[feature_names].values, y, test_size=0.2, random_state=1987)\n",
        "dtrain = xgb.DMatrix(Xtr, label=ytr)\n",
        "dvalid = xgb.DMatrix(Xv, label=yv)\n",
        "dtest = xgb.DMatrix(test[feature_names].values, label = test[['trip_seconds']].values)\n",
        "watchlist = [(dtrain, 'train'), (dvalid, 'valid'), (dtest, 'eval')]\n",
        "\n",
        "# parameters, mostly default\n",
        "xgb_pars = {'min_child_weight': 1, 'eta': 0.3, 'colsample_bytree': 1, 'max_depth': 6,\n",
        "            'subsample': 1, 'lambda': 1., 'booster' : 'gbtree', 'silent': 1,\n",
        "            'eval_metric':['mae','rmse'], 'objective': 'reg:linear'}"
      ],
      "execution_count": null,
      "outputs": []
    },
    {
      "cell_type": "code",
      "metadata": {
        "id": "fqrOMeq2kRUS",
        "colab": {
          "base_uri": "https://localhost:8080/",
          "height": 280
        },
        "outputId": "8df03771-de4e-464f-e630-924b7b9eb791"
      },
      "source": [
        "model = xgb.train(xgb_pars, dtrain, 200, watchlist, early_stopping_rounds=50,\n",
        "                  maximize=False, verbose_eval=10)"
      ],
      "execution_count": null,
      "outputs": [
        {
          "output_type": "stream",
          "text": [
            "[0]\ttrain-mae:4.14909\ttrain-rmse:4.1845\tvalid-mae:4.14516\tvalid-rmse:4.18117\teval-mae:728.383\teval-rmse:1166.52\n",
            "Multiple eval metrics have been passed: 'eval-rmse' will be used for early stopping.\n",
            "\n",
            "Will train until eval-rmse hasn't improved in 50 rounds.\n",
            "[10]\ttrain-mae:0.238545\ttrain-rmse:0.32347\tvalid-mae:0.242966\tvalid-rmse:0.327254\teval-mae:724.361\teval-rmse:1163.83\n",
            "[20]\ttrain-mae:0.202363\ttrain-rmse:0.288022\tvalid-mae:0.209657\tvalid-rmse:0.299248\teval-mae:724.252\teval-rmse:1163.75\n",
            "[30]\ttrain-mae:0.197716\ttrain-rmse:0.280132\tvalid-mae:0.207439\tvalid-rmse:0.297179\teval-mae:724.253\teval-rmse:1163.75\n",
            "[40]\ttrain-mae:0.193714\ttrain-rmse:0.274056\tvalid-mae:0.205885\tvalid-rmse:0.296524\teval-mae:724.259\teval-rmse:1163.75\n",
            "[50]\ttrain-mae:0.190957\ttrain-rmse:0.26985\tvalid-mae:0.205087\tvalid-rmse:0.295991\teval-mae:724.265\teval-rmse:1163.75\n",
            "[60]\ttrain-mae:0.189185\ttrain-rmse:0.267301\tvalid-mae:0.204766\tvalid-rmse:0.295737\teval-mae:724.27\teval-rmse:1163.75\n",
            "[70]\ttrain-mae:0.187172\ttrain-rmse:0.264299\tvalid-mae:0.204117\tvalid-rmse:0.295207\teval-mae:724.271\teval-rmse:1163.75\n",
            "Stopping. Best iteration:\n",
            "[26]\ttrain-mae:0.19986\ttrain-rmse:0.283582\tvalid-mae:0.208512\tvalid-rmse:0.298392\teval-mae:724.249\teval-rmse:1163.74\n",
            "\n"
          ],
          "name": "stdout"
        }
      ]
    },
    {
      "cell_type": "markdown",
      "metadata": {
        "id": "dscebHC5ivBW"
      },
      "source": [
        "XGBoost val error is least compared to other models, so let us use that to make further improvement"
      ]
    },
    {
      "cell_type": "markdown",
      "metadata": {
        "id": "850Wni1giR3P"
      },
      "source": [
        "Prediction"
      ]
    },
    {
      "cell_type": "code",
      "metadata": {
        "id": "aFwtGuPvhzx6",
        "colab": {
          "base_uri": "https://localhost:8080/",
          "height": 35
        },
        "outputId": "29b768e7-b70d-47d5-fc10-1152bf1fbfb0"
      },
      "source": [
        "ytest = model.predict(dtest)\n",
        "print('Test shape OK.') if test.shape[0] == ytest.shape[0] else print('Oops')\n",
        "test['trip_seconds_pred'] = np.exp(ytest) - 1"
      ],
      "execution_count": null,
      "outputs": [
        {
          "output_type": "stream",
          "text": [
            "Test shape OK.\n"
          ],
          "name": "stdout"
        }
      ]
    },
    {
      "cell_type": "code",
      "metadata": {
        "id": "f6rVZKcSnqed",
        "colab": {
          "base_uri": "https://localhost:8080/",
          "height": 413
        },
        "outputId": "ae157a8d-c259-407c-e1fb-7630771cfbd1"
      },
      "source": [
        "test.head(5)"
      ],
      "execution_count": null,
      "outputs": [
        {
          "output_type": "execute_result",
          "data": {
            "text/html": [
              "<div>\n",
              "<style scoped>\n",
              "    .dataframe tbody tr th:only-of-type {\n",
              "        vertical-align: middle;\n",
              "    }\n",
              "\n",
              "    .dataframe tbody tr th {\n",
              "        vertical-align: top;\n",
              "    }\n",
              "\n",
              "    .dataframe thead th {\n",
              "        text-align: right;\n",
              "    }\n",
              "</style>\n",
              "<table border=\"1\" class=\"dataframe\">\n",
              "  <thead>\n",
              "    <tr style=\"text-align: right;\">\n",
              "      <th></th>\n",
              "      <th>unique_key</th>\n",
              "      <th>taxi_id</th>\n",
              "      <th>trip_start_timestamp</th>\n",
              "      <th>trip_end_timestamp</th>\n",
              "      <th>trip_seconds</th>\n",
              "      <th>trip_miles</th>\n",
              "      <th>pickup_census_tract</th>\n",
              "      <th>dropoff_census_tract</th>\n",
              "      <th>pickup_community_area</th>\n",
              "      <th>dropoff_community_area</th>\n",
              "      <th>fare</th>\n",
              "      <th>tips</th>\n",
              "      <th>tolls</th>\n",
              "      <th>extras</th>\n",
              "      <th>trip_total</th>\n",
              "      <th>payment_type</th>\n",
              "      <th>company</th>\n",
              "      <th>pickup_latitude</th>\n",
              "      <th>pickup_longitude</th>\n",
              "      <th>pickup_location</th>\n",
              "      <th>dropoff_latitude</th>\n",
              "      <th>dropoff_longitude</th>\n",
              "      <th>dropoff_location</th>\n",
              "      <th>pickup_date</th>\n",
              "      <th>pickup_weekday</th>\n",
              "      <th>pickup_hour_weekofyear</th>\n",
              "      <th>pickup_hour</th>\n",
              "      <th>pickup_minute</th>\n",
              "      <th>pickup_week_hour</th>\n",
              "      <th>pickup_pca0</th>\n",
              "      <th>pickup_pca1</th>\n",
              "      <th>dropoff_pca0</th>\n",
              "      <th>dropoff_pca1</th>\n",
              "      <th>center_latitude</th>\n",
              "      <th>center_longitude</th>\n",
              "      <th>pickup_cluster</th>\n",
              "      <th>dropoff_cluster</th>\n",
              "      <th>trip_seconds_pred</th>\n",
              "    </tr>\n",
              "  </thead>\n",
              "  <tbody>\n",
              "    <tr>\n",
              "      <th>127</th>\n",
              "      <td>3d480ae509c5f4899ee510cd84ac2800e9d9ad8b</td>\n",
              "      <td>1f7013cdde4f526253df066ec65f39c6c5d8b20782091c...</td>\n",
              "      <td>2017-04-30 22:45:00+00:00</td>\n",
              "      <td>2017-04-30 22:45:00+00:00</td>\n",
              "      <td>180</td>\n",
              "      <td>0.7</td>\n",
              "      <td>NaN</td>\n",
              "      <td>NaN</td>\n",
              "      <td>14.0</td>\n",
              "      <td>14.0</td>\n",
              "      <td>4.75</td>\n",
              "      <td>0.00</td>\n",
              "      <td>0.0</td>\n",
              "      <td>0.0</td>\n",
              "      <td>4.75</td>\n",
              "      <td>Cash</td>\n",
              "      <td>Northwest Management LLC</td>\n",
              "      <td>41.968069</td>\n",
              "      <td>-87.721559</td>\n",
              "      <td>POINT (-87.7215590627 41.968069)</td>\n",
              "      <td>41.968069</td>\n",
              "      <td>-87.721559</td>\n",
              "      <td>POINT (-87.7215590627 41.968069)</td>\n",
              "      <td>2017-04-30</td>\n",
              "      <td>6</td>\n",
              "      <td>17</td>\n",
              "      <td>22</td>\n",
              "      <td>45</td>\n",
              "      <td>166</td>\n",
              "      <td>0.10033</td>\n",
              "      <td>0.006392</td>\n",
              "      <td>0.10033</td>\n",
              "      <td>0.006392</td>\n",
              "      <td>41.968069</td>\n",
              "      <td>-87.721559</td>\n",
              "      <td>6</td>\n",
              "      <td>6</td>\n",
              "      <td>192.955109</td>\n",
              "    </tr>\n",
              "    <tr>\n",
              "      <th>128</th>\n",
              "      <td>3d4cf9eda4a063bdb5f487ed060c45b79154f388</td>\n",
              "      <td>845cdbcd961992102ca6b9de75a863d83d457881dad5bf...</td>\n",
              "      <td>2017-02-06 11:15:00+00:00</td>\n",
              "      <td>2017-02-06 11:15:00+00:00</td>\n",
              "      <td>60</td>\n",
              "      <td>0.0</td>\n",
              "      <td>NaN</td>\n",
              "      <td>NaN</td>\n",
              "      <td>14.0</td>\n",
              "      <td>14.0</td>\n",
              "      <td>3.25</td>\n",
              "      <td>0.00</td>\n",
              "      <td>0.0</td>\n",
              "      <td>0.0</td>\n",
              "      <td>3.25</td>\n",
              "      <td>Cash</td>\n",
              "      <td>Taxi Affiliation Services</td>\n",
              "      <td>41.968069</td>\n",
              "      <td>-87.721559</td>\n",
              "      <td>POINT (-87.7215590627 41.968069)</td>\n",
              "      <td>41.968069</td>\n",
              "      <td>-87.721559</td>\n",
              "      <td>POINT (-87.7215590627 41.968069)</td>\n",
              "      <td>2017-02-06</td>\n",
              "      <td>0</td>\n",
              "      <td>6</td>\n",
              "      <td>11</td>\n",
              "      <td>15</td>\n",
              "      <td>11</td>\n",
              "      <td>0.10033</td>\n",
              "      <td>0.006392</td>\n",
              "      <td>0.10033</td>\n",
              "      <td>0.006392</td>\n",
              "      <td>41.968069</td>\n",
              "      <td>-87.721559</td>\n",
              "      <td>6</td>\n",
              "      <td>6</td>\n",
              "      <td>60.169571</td>\n",
              "    </tr>\n",
              "    <tr>\n",
              "      <th>129</th>\n",
              "      <td>3d6d97690b4207c9d8148ec15490f3c7362cd337</td>\n",
              "      <td>7b3a4ffae6221ac1f4a49cafa742d4c7795b721e442c3e...</td>\n",
              "      <td>2017-02-16 22:30:00+00:00</td>\n",
              "      <td>2017-02-16 22:30:00+00:00</td>\n",
              "      <td>660</td>\n",
              "      <td>0.0</td>\n",
              "      <td>NaN</td>\n",
              "      <td>NaN</td>\n",
              "      <td>14.0</td>\n",
              "      <td>14.0</td>\n",
              "      <td>8.00</td>\n",
              "      <td>0.00</td>\n",
              "      <td>0.0</td>\n",
              "      <td>0.0</td>\n",
              "      <td>8.00</td>\n",
              "      <td>Cash</td>\n",
              "      <td>Blue Ribbon Taxi Association Inc.</td>\n",
              "      <td>41.968069</td>\n",
              "      <td>-87.721559</td>\n",
              "      <td>POINT (-87.7215590627 41.968069)</td>\n",
              "      <td>41.968069</td>\n",
              "      <td>-87.721559</td>\n",
              "      <td>POINT (-87.7215590627 41.968069)</td>\n",
              "      <td>2017-02-16</td>\n",
              "      <td>3</td>\n",
              "      <td>7</td>\n",
              "      <td>22</td>\n",
              "      <td>30</td>\n",
              "      <td>94</td>\n",
              "      <td>0.10033</td>\n",
              "      <td>0.006392</td>\n",
              "      <td>0.10033</td>\n",
              "      <td>0.006392</td>\n",
              "      <td>41.968069</td>\n",
              "      <td>-87.721559</td>\n",
              "      <td>6</td>\n",
              "      <td>6</td>\n",
              "      <td>376.014587</td>\n",
              "    </tr>\n",
              "    <tr>\n",
              "      <th>130</th>\n",
              "      <td>3d87047c74421604f4b4ce23addc87f996cec0e2</td>\n",
              "      <td>6283d7e0bc1bb306ec117871d27b644413fb91fe9e8129...</td>\n",
              "      <td>2017-04-15 05:15:00+00:00</td>\n",
              "      <td>2017-04-15 05:15:00+00:00</td>\n",
              "      <td>120</td>\n",
              "      <td>0.8</td>\n",
              "      <td>NaN</td>\n",
              "      <td>NaN</td>\n",
              "      <td>14.0</td>\n",
              "      <td>14.0</td>\n",
              "      <td>5.00</td>\n",
              "      <td>2.08</td>\n",
              "      <td>0.0</td>\n",
              "      <td>0.0</td>\n",
              "      <td>7.08</td>\n",
              "      <td>Credit Card</td>\n",
              "      <td>Dispatch Taxi Affiliation</td>\n",
              "      <td>41.968069</td>\n",
              "      <td>-87.721559</td>\n",
              "      <td>POINT (-87.7215590627 41.968069)</td>\n",
              "      <td>41.968069</td>\n",
              "      <td>-87.721559</td>\n",
              "      <td>POINT (-87.7215590627 41.968069)</td>\n",
              "      <td>2017-04-15</td>\n",
              "      <td>5</td>\n",
              "      <td>15</td>\n",
              "      <td>5</td>\n",
              "      <td>15</td>\n",
              "      <td>125</td>\n",
              "      <td>0.10033</td>\n",
              "      <td>0.006392</td>\n",
              "      <td>0.10033</td>\n",
              "      <td>0.006392</td>\n",
              "      <td>41.968069</td>\n",
              "      <td>-87.721559</td>\n",
              "      <td>6</td>\n",
              "      <td>6</td>\n",
              "      <td>240.936569</td>\n",
              "    </tr>\n",
              "    <tr>\n",
              "      <th>131</th>\n",
              "      <td>3da3a1f29de529a980cc2eb1b4e2fb841dfb6c50</td>\n",
              "      <td>edecbf70f406121a7ba41112ad929b6e569e0bdc06ee50...</td>\n",
              "      <td>2017-01-26 16:15:00+00:00</td>\n",
              "      <td>2017-01-26 16:15:00+00:00</td>\n",
              "      <td>1</td>\n",
              "      <td>0.0</td>\n",
              "      <td>NaN</td>\n",
              "      <td>NaN</td>\n",
              "      <td>14.0</td>\n",
              "      <td>14.0</td>\n",
              "      <td>3.25</td>\n",
              "      <td>0.00</td>\n",
              "      <td>0.0</td>\n",
              "      <td>3.0</td>\n",
              "      <td>6.25</td>\n",
              "      <td>Cash</td>\n",
              "      <td>None</td>\n",
              "      <td>41.968069</td>\n",
              "      <td>-87.721559</td>\n",
              "      <td>POINT (-87.7215590627 41.968069)</td>\n",
              "      <td>41.968069</td>\n",
              "      <td>-87.721559</td>\n",
              "      <td>POINT (-87.7215590627 41.968069)</td>\n",
              "      <td>2017-01-26</td>\n",
              "      <td>3</td>\n",
              "      <td>4</td>\n",
              "      <td>16</td>\n",
              "      <td>15</td>\n",
              "      <td>88</td>\n",
              "      <td>0.10033</td>\n",
              "      <td>0.006392</td>\n",
              "      <td>0.10033</td>\n",
              "      <td>0.006392</td>\n",
              "      <td>41.968069</td>\n",
              "      <td>-87.721559</td>\n",
              "      <td>6</td>\n",
              "      <td>6</td>\n",
              "      <td>322.602600</td>\n",
              "    </tr>\n",
              "  </tbody>\n",
              "</table>\n",
              "</div>"
            ],
            "text/plain": [
              "                                   unique_key  ... trip_seconds_pred\n",
              "127  3d480ae509c5f4899ee510cd84ac2800e9d9ad8b  ...        192.955109\n",
              "128  3d4cf9eda4a063bdb5f487ed060c45b79154f388  ...         60.169571\n",
              "129  3d6d97690b4207c9d8148ec15490f3c7362cd337  ...        376.014587\n",
              "130  3d87047c74421604f4b4ce23addc87f996cec0e2  ...        240.936569\n",
              "131  3da3a1f29de529a980cc2eb1b4e2fb841dfb6c50  ...        322.602600\n",
              "\n",
              "[5 rows x 38 columns]"
            ]
          },
          "metadata": {
            "tags": []
          },
          "execution_count": 27
        }
      ]
    },
    {
      "cell_type": "code",
      "metadata": {
        "id": "93DZ3PIqmibL",
        "colab": {
          "base_uri": "https://localhost:8080/",
          "height": 35
        },
        "outputId": "1eb14652-6db6-4a5e-82a7-0ae70c5bf31c"
      },
      "source": [
        "from sklearn.metrics import mean_absolute_error\n",
        "\n",
        "mean_absolute_error(test['trip_seconds'].values, test['trip_seconds_pred'].values)"
      ],
      "execution_count": null,
      "outputs": [
        {
          "output_type": "execute_result",
          "data": {
            "text/plain": [
              "185.34649086637694"
            ]
          },
          "metadata": {
            "tags": []
          },
          "execution_count": 28
        }
      ]
    },
    {
      "cell_type": "markdown",
      "metadata": {
        "id": "dG4nu3pOjI7M"
      },
      "source": [
        "####test MAPE "
      ]
    },
    {
      "cell_type": "code",
      "metadata": {
        "id": "v31q8fCUi02q",
        "colab": {
          "base_uri": "https://localhost:8080/",
          "height": 35
        },
        "outputId": "5f026bab-6573-427f-dd80-ec0c84804659"
      },
      "source": [
        "np.mean(np.abs((test['trip_seconds'].values - test['trip_seconds_pred'].values)/(test['trip_seconds'].values)))*100"
      ],
      "execution_count": null,
      "outputs": [
        {
          "output_type": "execute_result",
          "data": {
            "text/plain": [
              "37.84936026991198"
            ]
          },
          "metadata": {
            "tags": []
          },
          "execution_count": 29
        }
      ]
    },
    {
      "cell_type": "code",
      "metadata": {
        "id": "0mDW39SwkjZg",
        "colab": {
          "base_uri": "https://localhost:8080/",
          "height": 35
        },
        "outputId": "f3c9d5f0-4e99-4e43-a0e9-ff074d21891d"
      },
      "source": [
        "import math\n",
        "def rmsle(y, y_pred):\n",
        "\tassert len(y) == len(y_pred)\n",
        "\tterms_to_sum = [(math.log(y_pred[i] + 1) - math.log(y[i] + 1)) ** 2.0 for i,pred in enumerate(y_pred)]\n",
        "\treturn (sum(terms_to_sum) * (1.0/len(y))) ** 0.5\n",
        "\t\n",
        "\t\n",
        "\t\n",
        "rmsle(test['trip_seconds'].values, test['trip_seconds_pred'].values)"
      ],
      "execution_count": null,
      "outputs": [
        {
          "output_type": "execute_result",
          "data": {
            "text/plain": [
              "0.36872514650171523"
            ]
          },
          "metadata": {
            "tags": []
          },
          "execution_count": 30
        }
      ]
    },
    {
      "cell_type": "markdown",
      "metadata": {
        "id": "V5Bf6tt7iohQ"
      },
      "source": [
        "###Approach 2 : Adding features from PCA"
      ]
    },
    {
      "cell_type": "code",
      "metadata": {
        "id": "g8dQN6Meimvf",
        "cellView": "code",
        "colab": {
          "base_uri": "https://localhost:8080/",
          "height": 89
        },
        "outputId": "3dd2e3ac-24ff-4707-d247-99c74433cea3"
      },
      "source": [
        "feature_names = list(train.columns)\n",
        "print(\"Columns missing in test data are: {}\".format(np.setdiff1d(train.columns, test.columns)))\n",
        "do_not_use_for_training = ['unique_key','taxi_id', 'log_trip_seconds', 'trip_start_timestamp', 'trip_end_timestamp',\n",
        "                           'trip_seconds', 'check_trip_seconds', 'pickup_census_tract',\n",
        "                           'dropoff_census_tract', 'pickup_community_area',\n",
        "                           'dropoff_community_area', 'tips', 'extras',\n",
        "                           'payment_type', 'company','fare','tolls',\n",
        "                           'pickup_location', 'dropoff_location', 'pickup_date',\n",
        "                           'check_trip_seconds', 'log_trip_seconds',\n",
        "                           'avg_speed_h','pickup_cluster', 'dropoff_cluster']\n",
        "\n",
        "\n",
        "feature_names = [f for f in train.columns if f not in do_not_use_for_training]\n",
        "print(\"columns used for modelling are: {}\".format(feature_names))\n",
        "print('We have %i features.' % len(feature_names))\n",
        "\n",
        "train[feature_names].count()\n",
        "y = np.log(train['trip_seconds'].values + 1)"
      ],
      "execution_count": null,
      "outputs": [
        {
          "output_type": "stream",
          "text": [
            "Columns missing in test data are: ['avg_speed_h' 'check_trip_seconds' 'log_trip_seconds']\n",
            "columns used for modelling are: ['trip_miles', 'trip_total', 'pickup_latitude', 'pickup_longitude', 'dropoff_latitude', 'dropoff_longitude', 'pickup_weekday', 'pickup_hour_weekofyear', 'pickup_hour', 'pickup_minute', 'pickup_week_hour', 'pickup_pca0', 'pickup_pca1', 'dropoff_pca0', 'dropoff_pca1', 'center_latitude', 'center_longitude']\n",
            "We have 17 features.\n"
          ],
          "name": "stdout"
        }
      ]
    },
    {
      "cell_type": "code",
      "metadata": {
        "id": "fV7_5gLSinHk",
        "cellView": "code",
        "colab": {
          "base_uri": "https://localhost:8080/",
          "height": 191
        },
        "outputId": "0857f3c3-4437-4d78-8e4e-9ecf87a13131"
      },
      "source": [
        "Xtr, Xv, ytr, yv = train_test_split(train[feature_names].values, y, test_size=0.2, random_state=1987)\n",
        "dtrain = xgb.DMatrix(Xtr, label=ytr)\n",
        "dvalid = xgb.DMatrix(Xv, label=yv)\n",
        "dtest = xgb.DMatrix(test[feature_names].values)\n",
        "watchlist = [(dtrain, 'train'), (dvalid, 'valid')]\n",
        "\n",
        "# parameters, mostly default\n",
        "xgb_pars = {'min_child_weight': 1, 'eta': 0.3, 'colsample_bytree': 1, 'max_depth': 6,\n",
        "            'subsample': 1, 'lambda': 1., 'booster' : 'gbtree', 'silent': 1,\n",
        "            'eval_metric':['mae','rmse'], 'objective': 'reg:linear'}\n",
        "\n",
        "model = xgb.train(xgb_pars, dtrain, 60, watchlist,early_stopping_rounds=50,\n",
        "                  maximize=False, verbose_eval=10)"
      ],
      "execution_count": null,
      "outputs": [
        {
          "output_type": "stream",
          "text": [
            "[0]\ttrain-mae:4.1491\ttrain-rmse:4.1845\tvalid-mae:4.14515\tvalid-rmse:4.18116\n",
            "Multiple eval metrics have been passed: 'valid-rmse' will be used for early stopping.\n",
            "\n",
            "Will train until valid-rmse hasn't improved in 50 rounds.\n",
            "[10]\ttrain-mae:0.23799\ttrain-rmse:0.323245\tvalid-mae:0.242552\tvalid-rmse:0.326949\n",
            "[20]\ttrain-mae:0.202278\ttrain-rmse:0.288257\tvalid-mae:0.209798\tvalid-rmse:0.300328\n",
            "[30]\ttrain-mae:0.197357\ttrain-rmse:0.280362\tvalid-mae:0.207129\tvalid-rmse:0.29737\n",
            "[40]\ttrain-mae:0.193505\ttrain-rmse:0.273949\tvalid-mae:0.205292\tvalid-rmse:0.295814\n",
            "[50]\ttrain-mae:0.190772\ttrain-rmse:0.269635\tvalid-mae:0.20438\tvalid-rmse:0.295205\n",
            "[59]\ttrain-mae:0.18877\ttrain-rmse:0.26595\tvalid-mae:0.20377\tvalid-rmse:0.294876\n"
          ],
          "name": "stdout"
        }
      ]
    },
    {
      "cell_type": "markdown",
      "metadata": {
        "id": "Xflx3B2ejpAA"
      },
      "source": [
        "####test MAPE "
      ]
    },
    {
      "cell_type": "code",
      "metadata": {
        "id": "KDQU2rvkinnt",
        "colab": {
          "base_uri": "https://localhost:8080/",
          "height": 35
        },
        "outputId": "a731185b-4bf4-481f-b384-82dd14c1a027"
      },
      "source": [
        "np.mean(np.abs((test['trip_seconds'].values - test['trip_seconds_pred'].values)/(test['trip_seconds'].values)))*100"
      ],
      "execution_count": null,
      "outputs": [
        {
          "output_type": "execute_result",
          "data": {
            "text/plain": [
              "37.84936026991198"
            ]
          },
          "metadata": {
            "tags": []
          },
          "execution_count": 33
        }
      ]
    },
    {
      "cell_type": "markdown",
      "metadata": {
        "id": "Wv9KAmWVkBUk"
      },
      "source": [
        "###Approach 3 : Adding Features from Clustering"
      ]
    },
    {
      "cell_type": "markdown",
      "metadata": {
        "id": "wABGpMHJkVml"
      },
      "source": [
        "Creating list of features to be used for training"
      ]
    },
    {
      "cell_type": "code",
      "metadata": {
        "id": "72Lg1mafkWLm",
        "colab": {
          "base_uri": "https://localhost:8080/",
          "height": 89
        },
        "outputId": "196efa23-13d2-43d0-c950-2b8cda2501ea"
      },
      "source": [
        "feature_names = list(train.columns)\n",
        "print(\"Columns missing in test data are: {}\".format(np.setdiff1d(train.columns, test.columns)))\n",
        "do_not_use_for_training = ['unique_key','taxi_id', 'log_trip_seconds', 'trip_start_timestamp', 'trip_end_timestamp',\n",
        "                           'trip_seconds', 'check_trip_seconds', 'pickup_census_tract',\n",
        "                           'dropoff_census_tract', 'pickup_community_area',\n",
        "                           'dropoff_community_area', 'tips', 'extras',\n",
        "                           'payment_type', 'company','fare','tolls',\n",
        "                           'pickup_location', 'dropoff_location', 'pickup_date',\n",
        "                           'check_trip_seconds', 'log_trip_seconds',\n",
        "                           'avg_speed_h']\n",
        "\n",
        "\n",
        "feature_names = [f for f in train.columns if f not in do_not_use_for_training]\n",
        "print(\"columns used for modelling are: {}\".format(feature_names))\n",
        "print('We have %i features.' % len(feature_names))\n",
        "\n",
        "train[feature_names].count()\n",
        "y = np.log(train['trip_seconds'].values + 1)"
      ],
      "execution_count": null,
      "outputs": [
        {
          "output_type": "stream",
          "text": [
            "Columns missing in test data are: ['avg_speed_h' 'check_trip_seconds' 'log_trip_seconds']\n",
            "columns used for modelling are: ['trip_miles', 'trip_total', 'pickup_latitude', 'pickup_longitude', 'dropoff_latitude', 'dropoff_longitude', 'pickup_weekday', 'pickup_hour_weekofyear', 'pickup_hour', 'pickup_minute', 'pickup_week_hour', 'pickup_pca0', 'pickup_pca1', 'dropoff_pca0', 'dropoff_pca1', 'center_latitude', 'center_longitude', 'pickup_cluster', 'dropoff_cluster']\n",
            "We have 19 features.\n"
          ],
          "name": "stdout"
        }
      ]
    },
    {
      "cell_type": "code",
      "metadata": {
        "id": "zppVth10kAcW",
        "colab": {
          "base_uri": "https://localhost:8080/",
          "height": 191
        },
        "outputId": "65965ef4-99d0-46e5-d34b-4b3a1a88f923"
      },
      "source": [
        "Xtr, Xv, ytr, yv = train_test_split(train[feature_names].values, y, test_size=0.2, random_state=1987)\n",
        "dtrain = xgb.DMatrix(Xtr, label=ytr)\n",
        "dvalid = xgb.DMatrix(Xv, label=yv)\n",
        "dtest = xgb.DMatrix(test[feature_names].values)\n",
        "watchlist = [(dtrain, 'train'), (dvalid, 'valid')]\n",
        "\n",
        "# parameters, mostly default\n",
        "xgb_pars = {'min_child_weight': 1, 'eta': 0.3, 'colsample_bytree': 1, 'max_depth': 6,\n",
        "            'subsample': 1, 'lambda': 1., 'booster' : 'gbtree', 'silent': 1,\n",
        "            'eval_metric':['mae','rmse'], 'objective': 'reg:linear'}\n",
        "\n",
        "model = xgb.train(xgb_pars, dtrain, 60, watchlist,early_stopping_rounds=50,\n",
        "                  maximize=False, verbose_eval=10)"
      ],
      "execution_count": null,
      "outputs": [
        {
          "output_type": "stream",
          "text": [
            "[0]\ttrain-mae:4.1491\ttrain-rmse:4.1845\tvalid-mae:4.14515\tvalid-rmse:4.18116\n",
            "Multiple eval metrics have been passed: 'valid-rmse' will be used for early stopping.\n",
            "\n",
            "Will train until valid-rmse hasn't improved in 50 rounds.\n",
            "[10]\ttrain-mae:0.237794\ttrain-rmse:0.322783\tvalid-mae:0.242289\tvalid-rmse:0.327434\n",
            "[20]\ttrain-mae:0.201906\ttrain-rmse:0.286912\tvalid-mae:0.209428\tvalid-rmse:0.299117\n",
            "[30]\ttrain-mae:0.196923\ttrain-rmse:0.27925\tvalid-mae:0.206655\tvalid-rmse:0.296657\n",
            "[40]\ttrain-mae:0.19397\ttrain-rmse:0.274217\tvalid-mae:0.205628\tvalid-rmse:0.295675\n",
            "[50]\ttrain-mae:0.191133\ttrain-rmse:0.269935\tvalid-mae:0.204631\tvalid-rmse:0.294945\n",
            "[59]\ttrain-mae:0.189315\ttrain-rmse:0.26704\tvalid-mae:0.204294\tvalid-rmse:0.294717\n"
          ],
          "name": "stdout"
        }
      ]
    },
    {
      "cell_type": "markdown",
      "metadata": {
        "id": "03JhIC2rk4LJ"
      },
      "source": [
        "Prediction"
      ]
    },
    {
      "cell_type": "code",
      "metadata": {
        "id": "4Y-twj-Pk64d",
        "colab": {
          "base_uri": "https://localhost:8080/",
          "height": 35
        },
        "outputId": "87b0f107-4167-40b6-99c9-ed8b9ce9a84d"
      },
      "source": [
        "ytest = model.predict(dtest)\n",
        "print('Test shape OK.') if test.shape[0] == ytest.shape[0] else print('Oops')\n",
        "test['trip_seconds_pred'] = np.exp(ytest) - 1"
      ],
      "execution_count": null,
      "outputs": [
        {
          "output_type": "stream",
          "text": [
            "Test shape OK.\n"
          ],
          "name": "stdout"
        }
      ]
    },
    {
      "cell_type": "markdown",
      "metadata": {
        "id": "zIFxB8TxlFhc"
      },
      "source": [
        "####test MAPE "
      ]
    },
    {
      "cell_type": "code",
      "metadata": {
        "id": "cvJg3mEQlGST",
        "colab": {
          "base_uri": "https://localhost:8080/",
          "height": 35
        },
        "outputId": "f10842e0-7a4f-4f9c-be5c-c4bebc22ca89"
      },
      "source": [
        "np.mean(np.abs((test['trip_seconds'].values - test['trip_seconds_pred'].values)/(test['trip_seconds'].values)))*100"
      ],
      "execution_count": null,
      "outputs": [
        {
          "output_type": "execute_result",
          "data": {
            "text/plain": [
              "38.32525382249353"
            ]
          },
          "metadata": {
            "tags": []
          },
          "execution_count": 37
        }
      ]
    },
    {
      "cell_type": "markdown",
      "metadata": {
        "id": "RZc-sqpmlXRK"
      },
      "source": [
        "###Approach 4 : Removing Outliers"
      ]
    },
    {
      "cell_type": "markdown",
      "metadata": {
        "id": "m1m2w6gdQHuz"
      },
      "source": [
        "Removing outliers from train and test data for few features"
      ]
    },
    {
      "cell_type": "code",
      "metadata": {
        "id": "QsoqZDBnVw8t"
      },
      "source": [
        "from scipy import stats\n",
        "feature_remove_outliers = ['trip_seconds','trip_miles', 'trip_total', 'pickup_latitude', 'pickup_longitude', 'dropoff_latitude', 'dropoff_longitude']\n",
        "\n",
        "train = train[(np.abs(stats.zscore(train[feature_remove_outliers].values)) < 3).all(axis=1)]\n",
        "\n",
        "test = test[(np.abs(stats.zscore(test[feature_remove_outliers].values)) < 3).all(axis=1)]\n"
      ],
      "execution_count": null,
      "outputs": []
    },
    {
      "cell_type": "markdown",
      "metadata": {
        "id": "BqGe5YihldO8"
      },
      "source": [
        "Creating list of features to be used for training"
      ]
    },
    {
      "cell_type": "code",
      "metadata": {
        "id": "5iSzR3rzld57",
        "colab": {
          "base_uri": "https://localhost:8080/",
          "height": 89
        },
        "outputId": "95fa0f4f-8975-4285-ccf4-19cc1967d570"
      },
      "source": [
        "feature_names = list(train.columns)\n",
        "print(\"Columns missing in test data are: {}\".format(np.setdiff1d(train.columns, test.columns)))\n",
        "do_not_use_for_training = ['unique_key','taxi_id', 'log_trip_seconds', 'trip_start_timestamp', 'trip_end_timestamp',\n",
        "                           'trip_seconds', 'check_trip_seconds', 'pickup_census_tract',\n",
        "                           'dropoff_census_tract', 'pickup_community_area',\n",
        "                           'dropoff_community_area', 'tips', 'extras',\n",
        "                           'payment_type', 'company','fare','tolls',\n",
        "                           'pickup_location', 'dropoff_location', 'pickup_date',\n",
        "                           'check_trip_seconds', 'log_trip_seconds',\n",
        "                           'avg_speed_h']\n",
        "\n",
        "\n",
        "feature_names = [f for f in train.columns if f not in do_not_use_for_training]\n",
        "print(\"columns used for modelling are: {}\".format(feature_names))\n",
        "print('We have %i features.' % len(feature_names))\n",
        "\n",
        "train[feature_names].count()\n",
        "y = np.log(train['trip_seconds'].values + 1)"
      ],
      "execution_count": null,
      "outputs": [
        {
          "output_type": "stream",
          "text": [
            "Columns missing in test data are: ['avg_speed_h' 'check_trip_seconds' 'log_trip_seconds']\n",
            "columns used for modelling are: ['trip_miles', 'trip_total', 'pickup_latitude', 'pickup_longitude', 'dropoff_latitude', 'dropoff_longitude', 'pickup_weekday', 'pickup_hour_weekofyear', 'pickup_hour', 'pickup_minute', 'pickup_week_hour', 'pickup_pca0', 'pickup_pca1', 'dropoff_pca0', 'dropoff_pca1', 'center_latitude', 'center_longitude', 'pickup_cluster', 'dropoff_cluster']\n",
            "We have 19 features.\n"
          ],
          "name": "stdout"
        }
      ]
    },
    {
      "cell_type": "code",
      "metadata": {
        "id": "Jk0Tc3JBmIet",
        "colab": {
          "base_uri": "https://localhost:8080/",
          "height": 191
        },
        "outputId": "a5d72560-90ca-4bb3-ff81-c838ec3c6d52"
      },
      "source": [
        "Xtr, Xv, ytr, yv = train_test_split(train[feature_names].values, y, test_size=0.2, random_state=1987)\n",
        "dtrain = xgb.DMatrix(Xtr, label=ytr)\n",
        "dvalid = xgb.DMatrix(Xv, label=yv)\n",
        "dtest = xgb.DMatrix(test[feature_names].values)\n",
        "watchlist = [(dtrain, 'train'), (dvalid, 'valid')]\n",
        "\n",
        "# parameters, mostly default\n",
        "xgb_pars = {'min_child_weight': 1, 'eta': 0.3, 'colsample_bytree': 1, 'max_depth': 6,\n",
        "            'subsample': 1, 'lambda': 1., 'booster' : 'gbtree', 'silent': 1,\n",
        "            'eval_metric':['mae','rmse'], 'objective': 'reg:linear'}\n",
        "\n",
        "model = xgb.train(xgb_pars, dtrain, 60, watchlist,early_stopping_rounds=50,\n",
        "                  maximize=False, verbose_eval=10)"
      ],
      "execution_count": null,
      "outputs": [
        {
          "output_type": "stream",
          "text": [
            "[0]\ttrain-mae:4.12015\ttrain-rmse:4.15182\tvalid-mae:4.12126\tvalid-rmse:4.15305\n",
            "Multiple eval metrics have been passed: 'valid-rmse' will be used for early stopping.\n",
            "\n",
            "Will train until valid-rmse hasn't improved in 50 rounds.\n",
            "[10]\ttrain-mae:0.234908\ttrain-rmse:0.305099\tvalid-mae:0.237104\tvalid-rmse:0.306022\n",
            "[20]\ttrain-mae:0.198214\ttrain-rmse:0.2696\tvalid-mae:0.203056\tvalid-rmse:0.276186\n",
            "[30]\ttrain-mae:0.193965\ttrain-rmse:0.264027\tvalid-mae:0.201095\tvalid-rmse:0.275129\n",
            "[40]\ttrain-mae:0.190936\ttrain-rmse:0.259605\tvalid-mae:0.199921\tvalid-rmse:0.274331\n",
            "[50]\ttrain-mae:0.188185\ttrain-rmse:0.255868\tvalid-mae:0.198765\tvalid-rmse:0.27356\n",
            "[59]\ttrain-mae:0.185552\ttrain-rmse:0.252349\tvalid-mae:0.197916\tvalid-rmse:0.272944\n"
          ],
          "name": "stdout"
        }
      ]
    },
    {
      "cell_type": "markdown",
      "metadata": {
        "id": "m4DQqtQDmJpt"
      },
      "source": [
        "Prediction"
      ]
    },
    {
      "cell_type": "code",
      "metadata": {
        "id": "ehqAQtbEmJ_T",
        "colab": {
          "base_uri": "https://localhost:8080/",
          "height": 35
        },
        "outputId": "6c5936b8-7a44-4cec-9b3c-9e1d1fbfc53f"
      },
      "source": [
        "ytest = model.predict(dtest)\n",
        "print('Test shape OK.') if test.shape[0] == ytest.shape[0] else print('Oops')\n",
        "test['trip_seconds_pred'] = np.exp(ytest) - 1"
      ],
      "execution_count": null,
      "outputs": [
        {
          "output_type": "stream",
          "text": [
            "Test shape OK.\n"
          ],
          "name": "stdout"
        }
      ]
    },
    {
      "cell_type": "markdown",
      "metadata": {
        "id": "C9dZ8KqKmU2W"
      },
      "source": [
        "####test MAPE "
      ]
    },
    {
      "cell_type": "code",
      "metadata": {
        "id": "L4gKT_S6lesp",
        "colab": {
          "base_uri": "https://localhost:8080/",
          "height": 35
        },
        "outputId": "08dc27cc-e574-4fca-ecec-49cb2830bb68"
      },
      "source": [
        "np.mean(np.abs((test['trip_seconds'].values - test['trip_seconds_pred'].values)/(test['trip_seconds'].values)))*100"
      ],
      "execution_count": null,
      "outputs": [
        {
          "output_type": "execute_result",
          "data": {
            "text/plain": [
              "32.832280739967494"
            ]
          },
          "metadata": {
            "tags": []
          },
          "execution_count": 42
        }
      ]
    },
    {
      "cell_type": "markdown",
      "metadata": {
        "id": "ZcuE5yGhn7tW"
      },
      "source": [
        "###Approach 5 : Adding features fare, tolls, centre_latitude, centre_longitude\n",
        "### Outliers removed"
      ]
    },
    {
      "cell_type": "markdown",
      "metadata": {
        "id": "34UMxic4oJOY"
      },
      "source": [
        "Creating list of features to be used for training"
      ]
    },
    {
      "cell_type": "code",
      "metadata": {
        "id": "GV6Y5JH7mqim",
        "colab": {
          "base_uri": "https://localhost:8080/",
          "height": 89
        },
        "outputId": "5e3a5f92-d473-43ba-b784-3c01201cf416"
      },
      "source": [
        "feature_names = list(train.columns)\n",
        "print(\"Columns missing in test data are: {}\".format(np.setdiff1d(train.columns, test.columns)))\n",
        "do_not_use_for_training = ['unique_key','taxi_id', 'log_trip_seconds', 'trip_start_timestamp', 'trip_end_timestamp',\n",
        "                           'trip_seconds', 'check_trip_seconds', 'pickup_census_tract',\n",
        "                           'dropoff_census_tract', 'pickup_community_area',\n",
        "                           'dropoff_community_area', 'tips', 'extras',\n",
        "                           'payment_type', 'company',\n",
        "                           'pickup_location', 'dropoff_location', 'pickup_date',\n",
        "                           'check_trip_seconds', 'log_trip_seconds',\n",
        "                           'avg_speed_h']\n",
        "\n",
        "\n",
        "feature_names = [f for f in train.columns if f not in do_not_use_for_training]\n",
        "print(\"columns used for modelling are: {}\".format(feature_names))\n",
        "print('We have %i features.' % len(feature_names))\n",
        "\n",
        "train[feature_names].count()\n",
        "y = np.log(train['trip_seconds'].values + 1)"
      ],
      "execution_count": null,
      "outputs": [
        {
          "output_type": "stream",
          "text": [
            "Columns missing in test data are: ['avg_speed_h' 'check_trip_seconds' 'log_trip_seconds']\n",
            "columns used for modelling are: ['trip_miles', 'fare', 'tolls', 'trip_total', 'pickup_latitude', 'pickup_longitude', 'dropoff_latitude', 'dropoff_longitude', 'pickup_weekday', 'pickup_hour_weekofyear', 'pickup_hour', 'pickup_minute', 'pickup_week_hour', 'pickup_pca0', 'pickup_pca1', 'dropoff_pca0', 'dropoff_pca1', 'center_latitude', 'center_longitude', 'pickup_cluster', 'dropoff_cluster']\n",
            "We have 21 features.\n"
          ],
          "name": "stdout"
        }
      ]
    },
    {
      "cell_type": "code",
      "metadata": {
        "id": "RktOqkbVmqvj",
        "colab": {
          "base_uri": "https://localhost:8080/",
          "height": 191
        },
        "outputId": "91c2de22-7e9d-41aa-f31c-c31d1cc07d41"
      },
      "source": [
        "Xtr, Xv, ytr, yv = train_test_split(train[feature_names].values, y, test_size=0.2, random_state=1987)\n",
        "dtrain = xgb.DMatrix(Xtr, label=ytr)\n",
        "dvalid = xgb.DMatrix(Xv, label=yv)\n",
        "dtest = xgb.DMatrix(test[feature_names].values)\n",
        "watchlist = [(dtrain, 'train'), (dvalid, 'valid')]\n",
        "\n",
        "# parameters, mostly default\n",
        "xgb_pars = {'min_child_weight': 1, 'eta': 0.3, 'colsample_bytree': 1, 'max_depth': 6,\n",
        "            'subsample': 1, 'lambda': 1., 'booster' : 'gbtree', 'silent': 1,\n",
        "            'eval_metric':['mae','rmse'], 'objective': 'reg:linear'}\n",
        "\n",
        "model = xgb.train(xgb_pars, dtrain, 60, watchlist,early_stopping_rounds=50,\n",
        "                  maximize=False, verbose_eval=10)"
      ],
      "execution_count": null,
      "outputs": [
        {
          "output_type": "stream",
          "text": [
            "[0]\ttrain-mae:4.12015\ttrain-rmse:4.14922\tvalid-mae:4.1218\tvalid-rmse:4.15106\n",
            "Multiple eval metrics have been passed: 'valid-rmse' will be used for early stopping.\n",
            "\n",
            "Will train until valid-rmse hasn't improved in 50 rounds.\n",
            "[10]\ttrain-mae:0.182766\ttrain-rmse:0.235408\tvalid-mae:0.184608\tvalid-rmse:0.236454\n",
            "[20]\ttrain-mae:0.136243\ttrain-rmse:0.190229\tvalid-mae:0.139825\tvalid-rmse:0.197363\n",
            "[30]\ttrain-mae:0.131423\ttrain-rmse:0.183216\tvalid-mae:0.136607\tvalid-rmse:0.19419\n",
            "[40]\ttrain-mae:0.12844\ttrain-rmse:0.178469\tvalid-mae:0.134997\tvalid-rmse:0.192967\n",
            "[50]\ttrain-mae:0.125759\ttrain-rmse:0.174725\tvalid-mae:0.133328\tvalid-rmse:0.191853\n",
            "[59]\ttrain-mae:0.123409\ttrain-rmse:0.171271\tvalid-mae:0.132127\tvalid-rmse:0.190841\n"
          ],
          "name": "stdout"
        }
      ]
    },
    {
      "cell_type": "markdown",
      "metadata": {
        "id": "K8zohA9gofdR"
      },
      "source": [
        "Prediction"
      ]
    },
    {
      "cell_type": "code",
      "metadata": {
        "id": "HK3w-V4Rmq4W",
        "colab": {
          "base_uri": "https://localhost:8080/",
          "height": 35
        },
        "outputId": "3e7a3eeb-a8c4-497f-ba46-c603c0f2e097"
      },
      "source": [
        "ytest = model.predict(dtest)\n",
        "print('Test shape OK.') if test.shape[0] == ytest.shape[0] else print('Oops')\n",
        "test['trip_seconds_pred'] = np.exp(ytest) - 1"
      ],
      "execution_count": null,
      "outputs": [
        {
          "output_type": "stream",
          "text": [
            "Test shape OK.\n"
          ],
          "name": "stdout"
        }
      ]
    },
    {
      "cell_type": "markdown",
      "metadata": {
        "id": "EHwyhswko1z1"
      },
      "source": [
        "####test MAPE "
      ]
    },
    {
      "cell_type": "code",
      "metadata": {
        "id": "qLRcJsoTmrAQ",
        "colab": {
          "base_uri": "https://localhost:8080/",
          "height": 35
        },
        "outputId": "bcb2bb02-858a-482d-dbcb-db40bb84dae8"
      },
      "source": [
        "np.mean(np.abs((test['trip_seconds'].values - test['trip_seconds_pred'].values)/(test['trip_seconds'].values)))*100"
      ],
      "execution_count": null,
      "outputs": [
        {
          "output_type": "execute_result",
          "data": {
            "text/plain": [
              "22.43962691160326"
            ]
          },
          "metadata": {
            "tags": []
          },
          "execution_count": 46
        }
      ]
    },
    {
      "cell_type": "markdown",
      "metadata": {
        "id": "QPAkHaaxqg7O"
      },
      "source": [
        "##Conclusion"
      ]
    },
    {
      "cell_type": "markdown",
      "metadata": {
        "id": "WZhBsVIMq1Tz"
      },
      "source": [
        "Best test MAPE (Mean Absolute Percentage Error) achieved is 20.66.\n",
        "\n",
        "columns used for this model are: ['trip_miles', 'fare', 'tolls', 'trip_total', 'pickup_latitude', 'pickup_longitude', 'dropoff_latitude', 'dropoff_longitude', 'pickup_weekday', 'pickup_hour_weekofyear', 'pickup_hour', 'pickup_minute', 'pickup_week_hour', 'pickup_pca0', 'pickup_pca1', 'dropoff_pca0', 'dropoff_pca1', 'pickup_cluster', 'dropoff_cluster', 'center_latitude', 'center_longitude']\n",
        "\n",
        "Using features like tolls, fare, centre_latitude, centre_longitude and outliers removed, improvement in test MAPE was from 33.42 to 20.66"
      ]
    },
    {
      "cell_type": "markdown",
      "metadata": {
        "id": "Yom_DLVqqx4P"
      },
      "source": [
        "##Improvement Areas\n",
        "I have used default parameters for XGBoost.\n",
        "So, model can be improved by selecting best parameters using random search (taking different combination of parameters and checking which combination reduces MAPE the most)\n",
        "\n",
        "Since, test data only cotains records upto July of 2017, we can try to take trsining data also only till July"
      ]
    },
    {
      "cell_type": "code",
      "metadata": {
        "id": "FeR-6mu_DEKv"
      },
      "source": [
        ""
      ],
      "execution_count": null,
      "outputs": []
    }
  ]
}